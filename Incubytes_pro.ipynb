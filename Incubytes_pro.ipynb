{
 "cells": [
  {
   "cell_type": "code",
   "execution_count": 38,
   "id": "82a5b74c",
   "metadata": {},
   "outputs": [],
   "source": [
    "#start spark session\n",
    "from pyspark.sql import SparkSession\n",
    "from pyspark.sql.functions import col,when\n",
    "spark = SparkSession.builder.appName(\"Hospital\").getOrCreate()"
   ]
  },
  {
   "cell_type": "code",
   "execution_count": 39,
   "id": "c02d2a23",
   "metadata": {},
   "outputs": [
    {
     "name": "stdout",
     "output_type": "stream",
     "text": [
      "('Customer_df_row.csv', <http.client.HTTPMessage object at 0x00000242C69BAB80>)\n"
     ]
    }
   ],
   "source": [
    "#by using url get the data from github repository\n",
    "import pandas as pd\n",
    "from urllib.request import urlretrieve as retrieve\n",
    "\n",
    "url = \"https://raw.githubusercontent.com/sushilpaikrao2/Incubyte_Assignment/main/Customer_df_row.csv\"\n",
    "retr=retrieve(url,'Customer_df_row.csv')\n",
    "print(retr)"
   ]
  },
  {
   "cell_type": "code",
   "execution_count": 40,
   "id": "073f619d",
   "metadata": {},
   "outputs": [],
   "source": [
    "#read the CSV file which is retriver from url \n",
    "df=spark.read.csv(\n",
    "    path= 'Customer_df_row.csv',\n",
    "    sep=\",\",\n",
    "    header=True,\n",
    "    inferSchema=True,\n",
    ")"
   ]
  },
  {
   "cell_type": "code",
   "execution_count": 41,
   "id": "b2f99db0",
   "metadata": {},
   "outputs": [
    {
     "name": "stdout",
     "output_type": "stream",
     "text": [
      "+---+-----------+-------------+----------+-------------------+--------------+-------+-----+-------+----------+---------+\n",
      "|_c0|Customer_Id|Customer_Name| Open_date|Last_Consulted_Date|Vaccination_Id|Dr_Name|State|Country|       DOB|Is_Active|\n",
      "+---+-----------+-------------+----------+-------------------+--------------+-------+-----+-------+----------+---------+\n",
      "|  0|        111|     samiksha|2021-06-10|         2022-06-10|           MVD|  piter|   VG|    USA|1994-03-05|        A|\n",
      "|  1|        123|       Akshay|2021-09-01|         2022-09-02|           MVD|   Paul|   MH|    IND|1994-07-04|        A|\n",
      "|  2|        345|       Sushil|2021-08-05|         2022-08-05|           CSD|   Alex|   SA|    USA|1995-08-04|        A|\n",
      "|  3|        432|        pooja|2021-08-06|         2022-08-06|           CSD|  Pooja|   CO|     UK|1995-07-06|        A|\n",
      "|  4|        456|       Shital|2021-09-05|         2022-10-05|           MVD|   John|   UP|    IND|1994-11-04|        A|\n",
      "|  5|        541|       Amrish|2021-05-07|         2022-05-07|           MVD|  Pooja|   CA|    USA|1998-03-01|        A|\n",
      "|  6|        567|        Rakhi|2021-10-11|         2022-10-11|           MVD| Mathew|  BOS|    NYC|1996-07-04|        A|\n",
      "|  7|        653|        Arjun|2021-02-09|         2022-07-10|           MVD|   John|   SG|     UK|1994-06-07|        A|\n",
      "|  8|        678|       Chetna|2021-10-11|         2022-10-11|           CSD| Shital|   MH|    IND|1996-07-04|        A|\n",
      "|  9|        753|         asho|2021-05-08|         2022-05-08|           MVD|  pitet|   KL|    IND|1992-07-07|        A|\n",
      "| 10|        765|        kajol|2021-02-09|         2022-02-09|           MVD|   Paul|   GJ|    IND|1994-04-08|        A|\n",
      "| 11|        789|        kedar|2021-05-07|         2022-05-07|           MVD|   Matt|   TN|    IND|1993-02-01|        A|\n",
      "| 12|        852|         john|2021-05-07|         2022-05-07|           CSD|   Matt|   CO|    USA|1992-07-07|        A|\n",
      "| 13|        876|       simran|2021-01-08|         2022-01-08|           CSD| Mathew|   AL|     UK|1998-08-03|        A|\n",
      "| 14|        987|        kumar|2021-04-09|         2022-04-09|           CSD|  Piter|   CO|     UK|1993-10-03|        A|\n",
      "+---+-----------+-------------+----------+-------------------+--------------+-------+-----+-------+----------+---------+\n",
      "\n",
      "root\n",
      " |-- _c0: integer (nullable = true)\n",
      " |-- Customer_Id: integer (nullable = true)\n",
      " |-- Customer_Name: string (nullable = true)\n",
      " |-- Open_date: string (nullable = true)\n",
      " |-- Last_Consulted_Date: string (nullable = true)\n",
      " |-- Vaccination_Id: string (nullable = true)\n",
      " |-- Dr_Name: string (nullable = true)\n",
      " |-- State: string (nullable = true)\n",
      " |-- Country: string (nullable = true)\n",
      " |-- DOB: string (nullable = true)\n",
      " |-- Is_Active: string (nullable = true)\n",
      "\n"
     ]
    }
   ],
   "source": [
    "df.show(15)\n",
    "df.printSchema()"
   ]
  },
  {
   "cell_type": "code",
   "execution_count": 42,
   "id": "26864ede",
   "metadata": {},
   "outputs": [],
   "source": [
    "#create csv file it is row data\n",
    "\n",
    "df.toPandas().to_csv('C:/Users/net comm15/Desktop/Incubyte_assessment/new/rowdata.csv')"
   ]
  },
  {
   "cell_type": "code",
   "execution_count": 43,
   "id": "9dbf887d",
   "metadata": {},
   "outputs": [],
   "source": [
    "#country wise get the india data\n",
    "df1=df.filter(col('Country').like('IND'))"
   ]
  },
  {
   "cell_type": "code",
   "execution_count": 44,
   "id": "fc771dbe",
   "metadata": {},
   "outputs": [
    {
     "name": "stdout",
     "output_type": "stream",
     "text": [
      "+---+-----------+-------------+----------+-------------------+--------------+-------+-----+-------+----------+---------+\n",
      "|_c0|Customer_Id|Customer_Name| Open_date|Last_Consulted_Date|Vaccination_Id|Dr_Name|State|Country|       DOB|Is_Active|\n",
      "+---+-----------+-------------+----------+-------------------+--------------+-------+-----+-------+----------+---------+\n",
      "|  1|        123|       Akshay|2021-09-01|         2022-09-02|           MVD|   Paul|   MH|    IND|1994-07-04|        A|\n",
      "|  4|        456|       Shital|2021-09-05|         2022-10-05|           MVD|   John|   UP|    IND|1994-11-04|        A|\n",
      "|  8|        678|       Chetna|2021-10-11|         2022-10-11|           CSD| Shital|   MH|    IND|1996-07-04|        A|\n",
      "|  9|        753|         asho|2021-05-08|         2022-05-08|           MVD|  pitet|   KL|    IND|1992-07-07|        A|\n",
      "| 10|        765|        kajol|2021-02-09|         2022-02-09|           MVD|   Paul|   GJ|    IND|1994-04-08|        A|\n",
      "| 11|        789|        kedar|2021-05-07|         2022-05-07|           MVD|   Matt|   TN|    IND|1993-02-01|        A|\n",
      "+---+-----------+-------------+----------+-------------------+--------------+-------+-----+-------+----------+---------+\n",
      "\n"
     ]
    }
   ],
   "source": [
    "#india data\n",
    "df1.show()"
   ]
  },
  {
   "cell_type": "code",
   "execution_count": 32,
   "id": "24b229c2",
   "metadata": {},
   "outputs": [],
   "source": [
    "#create indian data csv file\n",
    "df1.toPandas().to_csv('C:/Users/net comm15/Desktop/Incubyte_assessment/new/INDdata.csv')"
   ]
  },
  {
   "cell_type": "code",
   "execution_count": 45,
   "id": "8a45e797",
   "metadata": {},
   "outputs": [
    {
     "name": "stdout",
     "output_type": "stream",
     "text": [
      "+---+-----------+-------------+----------+-------------------+--------------+-------+-----+-------+----------+---------+\n",
      "|_c0|Customer_Id|Customer_Name| Open_date|Last_Consulted_Date|Vaccination_Id|Dr_Name|State|Country|       DOB|Is_Active|\n",
      "+---+-----------+-------------+----------+-------------------+--------------+-------+-----+-------+----------+---------+\n",
      "|  0|        111|     samiksha|2021-06-10|         2022-06-10|           MVD|  piter|   VG|    USA|1994-03-05|        A|\n",
      "|  2|        345|       Sushil|2021-08-05|         2022-08-05|           CSD|   Alex|   SA|    USA|1995-08-04|        A|\n",
      "|  5|        541|       Amrish|2021-05-07|         2022-05-07|           MVD|  Pooja|   CA|    USA|1998-03-01|        A|\n",
      "| 12|        852|         john|2021-05-07|         2022-05-07|           CSD|   Matt|   CO|    USA|1992-07-07|        A|\n",
      "+---+-----------+-------------+----------+-------------------+--------------+-------+-----+-------+----------+---------+\n",
      "\n"
     ]
    }
   ],
   "source": [
    "#country wise get the USA data\n",
    "df2=df.filter(col('Country').like('USA'))\n",
    "df2.show()"
   ]
  },
  {
   "cell_type": "code",
   "execution_count": 33,
   "id": "541e8ffd",
   "metadata": {},
   "outputs": [],
   "source": [
    "#create USA data csv file\n",
    "df2.toPandas().to_csv('C:/Users/net comm15/Desktop/Incubyte_assessment/new/USAdata.csv')"
   ]
  },
  {
   "cell_type": "code",
   "execution_count": 46,
   "id": "4db0d577",
   "metadata": {},
   "outputs": [
    {
     "name": "stdout",
     "output_type": "stream",
     "text": [
      "+---+-----------+-------------+----------+-------------------+--------------+-------+-----+-------+----------+---------+\n",
      "|_c0|Customer_Id|Customer_Name| Open_date|Last_Consulted_Date|Vaccination_Id|Dr_Name|State|Country|       DOB|Is_Active|\n",
      "+---+-----------+-------------+----------+-------------------+--------------+-------+-----+-------+----------+---------+\n",
      "|  3|        432|        pooja|2021-08-06|         2022-08-06|           CSD|  Pooja|   CO|     UK|1995-07-06|        A|\n",
      "|  7|        653|        Arjun|2021-02-09|         2022-07-10|           MVD|   John|   SG|     UK|1994-06-07|        A|\n",
      "| 13|        876|       simran|2021-01-08|         2022-01-08|           CSD| Mathew|   AL|     UK|1998-08-03|        A|\n",
      "| 14|        987|        kumar|2021-04-09|         2022-04-09|           CSD|  Piter|   CO|     UK|1993-10-03|        A|\n",
      "+---+-----------+-------------+----------+-------------------+--------------+-------+-----+-------+----------+---------+\n",
      "\n"
     ]
    }
   ],
   "source": [
    "#country wise get the UK data\n",
    "df3=df.filter(col('Country').like('UK'))\n",
    "df3.show()"
   ]
  },
  {
   "cell_type": "code",
   "execution_count": 34,
   "id": "10eab2f7",
   "metadata": {},
   "outputs": [],
   "source": [
    "#create USA data csv file\n",
    "df3.toPandas().to_csv('C:/Users/net comm15/Desktop/Incubyte_assessment/new/UKdata.csv')"
   ]
  },
  {
   "cell_type": "code",
   "execution_count": 47,
   "id": "5bdb19f4",
   "metadata": {},
   "outputs": [
    {
     "name": "stdout",
     "output_type": "stream",
     "text": [
      "+---+-----------+-------------+----------+-------------------+--------------+-------+-----+-------+----------+---------+\n",
      "|_c0|Customer_Id|Customer_Name| Open_date|Last_Consulted_Date|Vaccination_Id|Dr_Name|State|Country|       DOB|Is_Active|\n",
      "+---+-----------+-------------+----------+-------------------+--------------+-------+-----+-------+----------+---------+\n",
      "|  6|        567|        Rakhi|2021-10-11|         2022-10-11|           MVD| Mathew|  BOS|    NYC|1996-07-04|        A|\n",
      "+---+-----------+-------------+----------+-------------------+--------------+-------+-----+-------+----------+---------+\n",
      "\n"
     ]
    }
   ],
   "source": [
    "#country wise get the NYC data\n",
    "df4=df.filter(col('Country').like('NYC'))\n",
    "df4.show()"
   ]
  },
  {
   "cell_type": "code",
   "execution_count": 35,
   "id": "57148cb1",
   "metadata": {},
   "outputs": [],
   "source": [
    "#create NYC data csv file\n",
    "df4.toPandas().to_csv('C:/Users/net comm15/Desktop/Incubyte_assessment/new/NYCdata.csv')"
   ]
  },
  {
   "cell_type": "code",
   "execution_count": null,
   "id": "c314fd5f",
   "metadata": {},
   "outputs": [],
   "source": []
  }
 ],
 "metadata": {
  "kernelspec": {
   "display_name": "Python 3",
   "language": "python",
   "name": "python3"
  },
  "language_info": {
   "codemirror_mode": {
    "name": "ipython",
    "version": 3
   },
   "file_extension": ".py",
   "mimetype": "text/x-python",
   "name": "python",
   "nbconvert_exporter": "python",
   "pygments_lexer": "ipython3",
   "version": "3.8.11"
  }
 },
 "nbformat": 4,
 "nbformat_minor": 5
}
